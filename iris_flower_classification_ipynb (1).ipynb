{
  "nbformat": 4,
  "nbformat_minor": 0,
  "metadata": {
    "colab": {
      "provenance": []
    },
    "kernelspec": {
      "name": "python3",
      "display_name": "Python 3"
    },
    "language_info": {
      "name": "python"
    }
  },
  "cells": [
    {
      "cell_type": "code",
      "execution_count": 2,
      "metadata": {
        "colab": {
          "base_uri": "https://localhost:8080/"
        },
        "id": "peCcij_huurP",
        "outputId": "bd06e045-7682-447b-8aec-607c79befe72"
      },
      "outputs": [
        {
          "output_type": "stream",
          "name": "stdout",
          "text": [
            "\n",
            "Column names in the dataset:\n",
            "Index(['Id', 'SepalLengthCm', 'SepalWidthCm', 'PetalLengthCm', 'PetalWidthCm',\n",
            "       'Species'],\n",
            "      dtype='object')\n",
            "\n",
            "Dataset loaded successfully:\n",
            "   Id  SepalLengthCm  SepalWidthCm  PetalLengthCm  PetalWidthCm      Species\n",
            "0   1            5.1           3.5            1.4           0.2  Iris-setosa\n",
            "1   2            4.9           3.0            1.4           0.2  Iris-setosa\n",
            "2   3            4.7           3.2            1.3           0.2  Iris-setosa\n",
            "3   4            4.6           3.1            1.5           0.2  Iris-setosa\n",
            "4   5            5.0           3.6            1.4           0.2  Iris-setosa\n",
            "\n",
            "Training set and test set split:\n",
            "Training data size: 120\n",
            "Test data size: 30\n",
            "\n",
            "Features after scaling (first 5 rows of X_train):\n",
            "[[-1.21030717 -1.47393679  1.22037928 -1.5639872  -1.30948358]\n",
            " [-1.37240188 -0.13307079  3.02001693 -1.27728011 -1.04292204]\n",
            " [-0.21458252  1.08589829  0.09560575  0.38562104  0.28988568]\n",
            " [-1.46502743 -1.23014297  0.77046987 -1.21993869 -1.30948358]\n",
            " [-0.74717943 -1.7177306   0.32056046 -1.39196294 -1.30948358]]\n",
            "\n",
            "Model trained successfully.\n",
            "\n",
            "Model Accuracy: 100.00%\n",
            "\n",
            "Classification Report:\n",
            "                 precision    recall  f1-score   support\n",
            "\n",
            "    Iris-setosa       1.00      1.00      1.00        10\n",
            "Iris-versicolor       1.00      1.00      1.00         9\n",
            " Iris-virginica       1.00      1.00      1.00        11\n",
            "\n",
            "       accuracy                           1.00        30\n",
            "      macro avg       1.00      1.00      1.00        30\n",
            "   weighted avg       1.00      1.00      1.00        30\n",
            "\n"
          ]
        }
      ],
      "source": [
        "import pandas as pd\n",
        "import matplotlib.pyplot as plt\n",
        "from sklearn.model_selection import train_test_split\n",
        "from sklearn.preprocessing import StandardScaler\n",
        "from sklearn.ensemble import RandomForestClassifier\n",
        "from sklearn.metrics import accuracy_score, classification_report\n",
        "\n",
        "df = pd.read_csv('Iris.csv')\n",
        "\n",
        "# Check column names\n",
        "print(\"\\nColumn names in the dataset:\")\n",
        "print(df.columns)\n",
        "\n",
        "# Strip any extra spaces from column names\n",
        "df.columns = df.columns.str.strip()\n",
        "\n",
        "# Show the first few rows of the dataset\n",
        "print(\"\\nDataset loaded successfully:\")\n",
        "print(df.head())\n",
        "\n",
        "# Check if the 'species' column exists and adjust accordingly\n",
        "if 'species' in df.columns:\n",
        "    X = df.drop('species', axis=1).values\n",
        "    y = df['species'].values\n",
        "else:\n",
        "    X = df.drop('Species', axis=1).values  # Adjust if the column is 'Species' instead\n",
        "    y = df['Species'].values  # Adjust if the column is 'Species' instead\n",
        "\n",
        "# Rest of the code follows as before\n",
        "X_train, X_test, y_train, y_test = train_test_split(X, y, test_size=0.2, random_state=42)\n",
        "print(\"\\nTraining set and test set split:\")\n",
        "print(f\"Training data size: {X_train.shape[0]}\")\n",
        "print(f\"Test data size: {X_test.shape[0]}\")\n",
        "\n",
        "scaler = StandardScaler()\n",
        "X_train = scaler.fit_transform(X_train)\n",
        "X_test = scaler.transform(X_test)\n",
        "\n",
        "print(\"\\nFeatures after scaling (first 5 rows of X_train):\")\n",
        "print(X_train[:5])\n",
        "\n",
        "model = RandomForestClassifier(n_estimators=100, random_state=42)\n",
        "model.fit(X_train, y_train)\n",
        "\n",
        "print(\"\\nModel trained successfully.\")\n",
        "\n",
        "y_pred = model.predict(X_test)\n",
        "\n",
        "accuracy = accuracy_score(y_test, y_pred)\n",
        "print(f\"\\nModel Accuracy: {accuracy * 100:.2f}%\")\n",
        "\n",
        "print(\"\\nClassification Report:\")\n",
        "print(classification_report(y_test, y_pred))\n"
      ]
    },
    {
      "cell_type": "code",
      "source": [],
      "metadata": {
        "id": "i21vAdv1vuyf"
      },
      "execution_count": null,
      "outputs": []
    }
  ]
}